{
  "cells": [
    {
      "cell_type": "markdown",
      "metadata": {
        "id": "TWP5sH70wr5A"
      },
      "source": [
        "Calculator\n",
        "\n",
        "- encoder로 추출한 output 파일과 input 값의 embedding 값들의 코사인 유사도를 계산\n",
        "\n"
      ]
    },
    {
      "cell_type": "code",
      "execution_count": 1,
      "metadata": {
        "id": "vkYOOAQITopw"
      },
      "outputs": [
        {
          "name": "stdout",
          "output_type": "stream",
          "text": [
            "Requirement already satisfied: sentence-transformers in c:\\users\\yeppi\\miniconda3\\envs\\gyubin\\lib\\site-packages (2.2.2)\n",
            "Requirement already satisfied: numpy in c:\\users\\yeppi\\miniconda3\\envs\\gyubin\\lib\\site-packages (from sentence-transformers) (1.24.2)\n",
            "Requirement already satisfied: torchvision in c:\\users\\yeppi\\miniconda3\\envs\\gyubin\\lib\\site-packages (from sentence-transformers) (0.14.1)\n",
            "Requirement already satisfied: scikit-learn in c:\\users\\yeppi\\miniconda3\\envs\\gyubin\\lib\\site-packages (from sentence-transformers) (1.3.0)\n",
            "Requirement already satisfied: nltk in c:\\users\\yeppi\\miniconda3\\envs\\gyubin\\lib\\site-packages (from sentence-transformers) (3.8.1)\n",
            "Requirement already satisfied: scipy in c:\\users\\yeppi\\miniconda3\\envs\\gyubin\\lib\\site-packages (from sentence-transformers) (1.10.0)\n",
            "Requirement already satisfied: torch>=1.6.0 in c:\\users\\yeppi\\miniconda3\\envs\\gyubin\\lib\\site-packages (from sentence-transformers) (1.13.1)\n",
            "Requirement already satisfied: sentencepiece in c:\\users\\yeppi\\miniconda3\\envs\\gyubin\\lib\\site-packages (from sentence-transformers) (0.1.99)\n",
            "Requirement already satisfied: transformers<5.0.0,>=4.6.0 in c:\\users\\yeppi\\miniconda3\\envs\\gyubin\\lib\\site-packages (from sentence-transformers) (4.32.1)\n",
            "Requirement already satisfied: huggingface-hub>=0.4.0 in c:\\users\\yeppi\\miniconda3\\envs\\gyubin\\lib\\site-packages (from sentence-transformers) (0.16.4)\n",
            "Requirement already satisfied: tqdm in c:\\users\\yeppi\\miniconda3\\envs\\gyubin\\lib\\site-packages (from sentence-transformers) (4.64.1)\n",
            "Requirement already satisfied: packaging>=20.9 in c:\\users\\yeppi\\miniconda3\\envs\\gyubin\\lib\\site-packages (from huggingface-hub>=0.4.0->sentence-transformers) (22.0)\n",
            "Requirement already satisfied: fsspec in c:\\users\\yeppi\\miniconda3\\envs\\gyubin\\lib\\site-packages (from huggingface-hub>=0.4.0->sentence-transformers) (2023.10.0)\n",
            "Requirement already satisfied: typing-extensions>=3.7.4.3 in c:\\users\\yeppi\\miniconda3\\envs\\gyubin\\lib\\site-packages (from huggingface-hub>=0.4.0->sentence-transformers) (4.7.1)\n",
            "Requirement already satisfied: pyyaml>=5.1 in c:\\users\\yeppi\\miniconda3\\envs\\gyubin\\lib\\site-packages (from huggingface-hub>=0.4.0->sentence-transformers) (6.0)\n",
            "Requirement already satisfied: filelock in c:\\users\\yeppi\\miniconda3\\envs\\gyubin\\lib\\site-packages (from huggingface-hub>=0.4.0->sentence-transformers) (3.12.3)\n",
            "Requirement already satisfied: requests in c:\\users\\yeppi\\miniconda3\\envs\\gyubin\\lib\\site-packages (from huggingface-hub>=0.4.0->sentence-transformers) (2.28.1)\n",
            "Requirement already satisfied: colorama in c:\\users\\yeppi\\miniconda3\\envs\\gyubin\\lib\\site-packages (from tqdm->sentence-transformers) (0.4.6)\n",
            "Requirement already satisfied: safetensors>=0.3.1 in c:\\users\\yeppi\\miniconda3\\envs\\gyubin\\lib\\site-packages (from transformers<5.0.0,>=4.6.0->sentence-transformers) (0.3.3)\n",
            "Requirement already satisfied: regex!=2019.12.17 in c:\\users\\yeppi\\miniconda3\\envs\\gyubin\\lib\\site-packages (from transformers<5.0.0,>=4.6.0->sentence-transformers) (2023.6.3)\n",
            "Requirement already satisfied: tokenizers!=0.11.3,<0.14,>=0.11.1 in c:\\users\\yeppi\\miniconda3\\envs\\gyubin\\lib\\site-packages (from transformers<5.0.0,>=4.6.0->sentence-transformers) (0.13.3)\n",
            "Requirement already satisfied: click in c:\\users\\yeppi\\miniconda3\\envs\\gyubin\\lib\\site-packages (from nltk->sentence-transformers) (8.1.3)\n",
            "Requirement already satisfied: joblib in c:\\users\\yeppi\\miniconda3\\envs\\gyubin\\lib\\site-packages (from nltk->sentence-transformers) (1.3.1)\n",
            "Requirement already satisfied: threadpoolctl>=2.0.0 in c:\\users\\yeppi\\miniconda3\\envs\\gyubin\\lib\\site-packages (from scikit-learn->sentence-transformers) (3.1.0)\n",
            "Requirement already satisfied: pillow!=8.3.*,>=5.3.0 in c:\\users\\yeppi\\miniconda3\\envs\\gyubin\\lib\\site-packages (from torchvision->sentence-transformers) (9.4.0)\n",
            "Requirement already satisfied: certifi>=2017.4.17 in c:\\users\\yeppi\\miniconda3\\envs\\gyubin\\lib\\site-packages (from requests->huggingface-hub>=0.4.0->sentence-transformers) (2022.12.7)\n",
            "Requirement already satisfied: idna<4,>=2.5 in c:\\users\\yeppi\\miniconda3\\envs\\gyubin\\lib\\site-packages (from requests->huggingface-hub>=0.4.0->sentence-transformers) (2.10)\n",
            "Requirement already satisfied: urllib3<1.27,>=1.21.1 in c:\\users\\yeppi\\miniconda3\\envs\\gyubin\\lib\\site-packages (from requests->huggingface-hub>=0.4.0->sentence-transformers) (1.26.14)\n",
            "Requirement already satisfied: charset-normalizer<3,>=2 in c:\\users\\yeppi\\miniconda3\\envs\\gyubin\\lib\\site-packages (from requests->huggingface-hub>=0.4.0->sentence-transformers) (2.0.4)\n",
            "Note: you may need to restart the kernel to use updated packages.\n"
          ]
        }
      ],
      "source": [
        "pip install -U sentence-transformers"
      ]
    },
    {
      "cell_type": "code",
      "execution_count": null,
      "metadata": {
        "id": "6Qy7MEzuTJ9g"
      },
      "outputs": [],
      "source": [
        "# 마운트\n",
        "from google.colab import drive\n",
        "drive.mount('/content/drive',force_remount=True)"
      ]
    },
    {
      "cell_type": "code",
      "execution_count": 1,
      "metadata": {
        "id": "zDmAi0LlTZYv"
      },
      "outputs": [],
      "source": [
        "import pandas as pd\n",
        "from transformers import AutoTokenizer, AutoModel\n",
        "import torch\n",
        "import numpy as np\n",
        "from sklearn.metrics.pairwise import cosine_similarity"
      ]
    },
    {
      "cell_type": "code",
      "execution_count": 2,
      "metadata": {
        "id": "Dts0w5FBVYyd"
      },
      "outputs": [],
      "source": [
        "# 데이터를 NumPy array로 변환하는 함수\n",
        "def parse_and_convert(value):\n",
        "\n",
        "    value = value.strip('[]')\n",
        "    return np.array([float(x) for x in value.split(',')])"
      ]
    },
    {
      "cell_type": "code",
      "execution_count": 12,
      "metadata": {
        "id": "EDHJIiVyVJVv"
      },
      "outputs": [],
      "source": [
        "# output 파일 로드\n",
        "csv_file_path = 'output_first.csv'  # Replace with the actual path to your CSV file\n",
        "# csv_file_path = 'output_total.csv'  # Replace with the actual path to your CSV file\n",
        "df = pd.read_csv(csv_file_path)\n",
        "\n",
        "# NumPy array로 변환\n",
        "df['embeddings'] = df['embeddings'].apply(parse_and_convert)\n",
        "\n",
        "# 타겟값 지정\n",
        "target_column = 'embeddings'\n",
        "target_data = df[target_column]"
      ]
    },
    {
      "cell_type": "code",
      "execution_count": 4,
      "metadata": {},
      "outputs": [],
      "source": [
        "df.iloc[[1,3,5,7,9]]\n",
        "da = df.drop([1,3,5,7,9])"
      ]
    },
    {
      "cell_type": "code",
      "execution_count": null,
      "metadata": {},
      "outputs": [
        {
          "data": {
            "text/plain": [
              "(40128, 4)"
            ]
          },
          "execution_count": 42,
          "metadata": {},
          "output_type": "execute_result"
        }
      ],
      "source": [
        "df.shape"
      ]
    },
    {
      "cell_type": "markdown",
      "metadata": {
        "id": "5iPZP44KqhGZ"
      },
      "source": [
        "CASE1. 초록을 새로 입력 시 가장 유사한 초록과 그 ipc코드를 반환\n"
      ]
    },
    {
      "cell_type": "code",
      "execution_count": null,
      "metadata": {},
      "outputs": [
        {
          "data": {
            "text/plain": [
              "'본 발명은 창틀과 윈도우 사이에 신체의 일부나 물체가 끼일 경우 윈도우를 강제로 다운시킬 수 있는 파워 윈도우의 안전장치 및 제어방법에 관한 것이다.본 발명에 따른 파워 윈도우의 안전장치는 자동차의 창틀의 고무패킹 내부에 장착되어 상기 창틀과 윈도우 사이에 물체가 끼일 경우 상기 윈도우를 하강시키도록 하는 파워 윈도우 안전장치에 있어서  창틀의 내측 일정위치에 형성되어 윈도우를 업 시키거나 또는 다운시키기 위한 스위치모듈과  창틀 상단부 내부에 다수 설치되어 스위치모듈의 작동으로 업 되는 윈도우와 창틀과 사이에 물체가 끼면 ECU로 신호를 전송하는 안전스위치부와  안전스위치부로부터 인가되는 신호에 의해 윈도우를 다운시키도록 구동되는 윈도우모터와  도어의 하부 내측에 형성되어 상기 윈도우를 일정거리 다운되면 윈도우모터의 구동을 정지시키기 위한 오토다운센서와  스위치모듈과 안전스위치부 및 오토다운센서로부터 인가되는 신호에 따라 윈도우모터의 구동을 제어하는 제어ECU를 포함하여 구성되어 그 안전장치를 제어하는 제어방법을 특징으로 한다.    도어  윈도우  안전스위치'"
            ]
          },
          "execution_count": 11,
          "metadata": {},
          "output_type": "execute_result"
        }
      ],
      "source": [
        "df['초록'][100]"
      ]
    },
    {
      "cell_type": "code",
      "execution_count": 89,
      "metadata": {
        "id": "_O3_Ic5zke48"
      },
      "outputs": [
        {
          "name": "stdout",
          "output_type": "stream",
          "text": [
            "본 발명은 냉장고용 탈취 촉매필터에 관한 것으로  좀 더 상세하게는 다공질의 무기질 섬유로 이루어져 80 130  g의 비표면적을 갖는 주름진 형태의 담체와  그리고 150 300  g의 비표면적을 갖는 MnO2와 150 300  g의 비표면적을 갖는 CuO의 혼합물로 이루어져 상기 담체에 담지되어 있는 촉매로 이루어지므로써 종래의 것에 비해 탈취 성능이 현저히 뛰어나며 수명이 반영구적인 잇점이 있다. \n",
            "\n",
            "가장 유사한 초록 \n",
            "-> 본 발명은 원료육을 신속하게 염지하는 방법에 관한 것으로서  쇠고기  돼지고기  닭고기등 육류덩어리고기 직경 100mm 120mm 에 간장  설탕  마늘즙  생강즙등 양념을 신속하게 침투시키기 위하여 가압텀블링을 이용하여 원료육을 신속하게 염지함으로써 원료육을 손상치 않고 보다 신속하고 효과적으로 염지처리하여 큰 덩어리육의 염지처리 공정에 다양하게 이용할 수 있어 육가공 관련 산업의 발전에 크게 기여할 수 있는 패스트푸드용 불고기 원료육의 처리방법이다.\n",
            "\n",
            "유사 ipc코드\n",
            "-> A23L\n"
          ]
        }
      ],
      "source": [
        "# 평균 풀링 - 주의 마스크(attention_mask)를 고려하여 평균 계산\n",
        "def mean_pooling(model_output, attention_mask):\n",
        "    token_embeddings = model_output[0]\n",
        "    input_mask_expanded = attention_mask.unsqueeze(-1).expand(token_embeddings.size()).float()\n",
        "    return torch.sum(token_embeddings * input_mask_expanded, 1) / torch.clamp(input_mask_expanded.sum(1), min=1e-9)\n",
        "\n",
        "# 학습된 모델과 토크나이저 로드\n",
        "tokenizer = AutoTokenizer.from_pretrained('jhgan/ko-sroberta-multitask')\n",
        "model = AutoModel.from_pretrained('jhgan/ko-sroberta-multitask')\n",
        "\n",
        "seed = 10042    \n",
        "a = df.초록[seed]\n",
        "df = df.drop(seed)\n",
        "# 입력 문장\n",
        "input_sentence = a\n",
        "\n",
        "# 입력문장 인코딩\n",
        "encoded_input = tokenizer(input_sentence, padding=True, truncation=True, return_tensors='pt')\n",
        "with torch.no_grad():\n",
        "    model_output = model(**encoded_input)\n",
        "input_embedding = mean_pooling(model_output, encoded_input['attention_mask']).numpy()\n",
        "\n",
        "\n",
        "# 코사인 유사도 계산\n",
        "similarity_scores = cosine_similarity(input_embedding, np.stack(target_data.apply(np.array), axis=0))\n",
        "\n",
        "\n",
        "# 가장 유사한 인덱스 추출\n",
        "most_similar_row_index = np.argmax(similarity_scores)\n",
        "result_1 = df.loc[most_similar_row_index, '초록']\n",
        "result_2 = df.loc[most_similar_row_index, 'ipc코드']\n",
        "\n",
        "print(a)\n",
        "# 결과 도출\n",
        "print(\"\\n가장 유사한 초록 \\n->\",result_1)\n",
        "print(\"\\n유사 ipc코드\\n->\",result_2)"
      ]
    },
    {
      "cell_type": "code",
      "execution_count": 15,
      "metadata": {},
      "outputs": [
        {
          "data": {
            "text/plain": [
              "True"
            ]
          },
          "execution_count": 15,
          "metadata": {},
          "output_type": "execute_result"
        }
      ],
      "source": [
        "df['초록'][0].startswith('본 발명은 ')"
      ]
    },
    {
      "cell_type": "code",
      "execution_count": 21,
      "metadata": {},
      "outputs": [
        {
          "name": "stdout",
          "output_type": "stream",
          "text": [
            "A01N\n",
            "C07F\n"
          ]
        }
      ],
      "source": [
        "import pandas as pd\n",
        "df = pd.read_csv('../data/Final_data.csv')\n",
        "# df는 당신이 가지고 있는 DataFrame 객체입니다.\n",
        "\n",
        "for index, row in df.iterrows():\n",
        "    if '식물가해곤충 ' in row['초록']:\n",
        "        print(row['ipc코드'])\n"
      ]
    },
    {
      "cell_type": "code",
      "execution_count": 24,
      "metadata": {},
      "outputs": [
        {
          "data": {
            "text/html": [
              "<div>\n",
              "<style scoped>\n",
              "    .dataframe tbody tr th:only-of-type {\n",
              "        vertical-align: middle;\n",
              "    }\n",
              "\n",
              "    .dataframe tbody tr th {\n",
              "        vertical-align: top;\n",
              "    }\n",
              "\n",
              "    .dataframe thead th {\n",
              "        text-align: right;\n",
              "    }\n",
              "</style>\n",
              "<table border=\"1\" class=\"dataframe\">\n",
              "  <thead>\n",
              "    <tr style=\"text-align: right;\">\n",
              "      <th></th>\n",
              "      <th>출원번호</th>\n",
              "      <th>초록</th>\n",
              "      <th>ipc코드</th>\n",
              "    </tr>\n",
              "  </thead>\n",
              "  <tbody>\n",
              "    <tr>\n",
              "      <th>0</th>\n",
              "      <td>1019790001108</td>\n",
              "      <td>quot 내용 없음 quot</td>\n",
              "      <td>A01N</td>\n",
              "    </tr>\n",
              "    <tr>\n",
              "      <th>1</th>\n",
              "      <td>1019820000038</td>\n",
              "      <td>목적 구조식 I 의 N 할로알킬 티오벤즈아닐리드 살균제 및 그 제조방법을 제공하는...</td>\n",
              "      <td>A01N</td>\n",
              "    </tr>\n",
              "    <tr>\n",
              "      <th>10</th>\n",
              "      <td>1019840000112</td>\n",
              "      <td>목적 광범위한 공업재료를 보존하기에 적합하고 안존한 보존제인 향균 작용을 갖는 o...</td>\n",
              "      <td>A01N</td>\n",
              "    </tr>\n",
              "    <tr>\n",
              "      <th>14</th>\n",
              "      <td>1019840003269</td>\n",
              "      <td>목적 신규의 1 옥소 이소인돌린 유도체의 제법을 제공함을 목적으로 한다. 구성 일...</td>\n",
              "      <td>A01N</td>\n",
              "    </tr>\n",
              "    <tr>\n",
              "      <th>17</th>\n",
              "      <td>1019840004705</td>\n",
              "      <td>목적 본 발명은 살충제로 유용한 신규한 물질인 카바메이트 화합물 의 제조방법을 제...</td>\n",
              "      <td>A01N</td>\n",
              "    </tr>\n",
              "    <tr>\n",
              "      <th>...</th>\n",
              "      <td>...</td>\n",
              "      <td>...</td>\n",
              "      <td>...</td>\n",
              "    </tr>\n",
              "    <tr>\n",
              "      <th>23050</th>\n",
              "      <td>1019970708411</td>\n",
              "      <td>식  I  의 화합물   및 이로부터 유도된 산 부가염 및 4차 암모늄 염 및 N ...</td>\n",
              "      <td>A01N</td>\n",
              "    </tr>\n",
              "    <tr>\n",
              "      <th>23052</th>\n",
              "      <td>1019970708417</td>\n",
              "      <td>본 발명은 반시류 곤충 해충을 박멸하기 위해 바실루스 츄린겐시스  비.티.  내독소...</td>\n",
              "      <td>A01N</td>\n",
              "    </tr>\n",
              "    <tr>\n",
              "      <th>23061</th>\n",
              "      <td>1019970708543</td>\n",
              "      <td>본 발명은 알콜 함량이 낮으며  표면의 신속한 1단계 소독 및 건조가 가능한 박테리...</td>\n",
              "      <td>A01N</td>\n",
              "    </tr>\n",
              "    <tr>\n",
              "      <th>23062</th>\n",
              "      <td>1019970708584</td>\n",
              "      <td>본 발명은 하기 일반식 1 으로 나타낸 페닐알칸아미드 유도체 및 이를 유효성분으로서...</td>\n",
              "      <td>A01N</td>\n",
              "    </tr>\n",
              "    <tr>\n",
              "      <th>23074</th>\n",
              "      <td>1019970708671</td>\n",
              "      <td>본 발명은 하기 일반식 Ⅰ 의 페닐피리다지논  이 화합물의 제조 방법  제초제로서의...</td>\n",
              "      <td>A01N</td>\n",
              "    </tr>\n",
              "  </tbody>\n",
              "</table>\n",
              "<p>1730 rows × 3 columns</p>\n",
              "</div>"
            ],
            "text/plain": [
              "                출원번호                                                 초록 ipc코드\n",
              "0      1019790001108                                   quot 내용 없음 quot   A01N\n",
              "1      1019820000038   목적 구조식 I 의 N 할로알킬 티오벤즈아닐리드 살균제 및 그 제조방법을 제공하는...  A01N\n",
              "10     1019840000112   목적 광범위한 공업재료를 보존하기에 적합하고 안존한 보존제인 향균 작용을 갖는 o...  A01N\n",
              "14     1019840003269   목적 신규의 1 옥소 이소인돌린 유도체의 제법을 제공함을 목적으로 한다. 구성 일...  A01N\n",
              "17     1019840004705   목적 본 발명은 살충제로 유용한 신규한 물질인 카바메이트 화합물 의 제조방법을 제...  A01N\n",
              "...              ...                                                ...   ...\n",
              "23050  1019970708411  식  I  의 화합물   및 이로부터 유도된 산 부가염 및 4차 암모늄 염 및 N ...  A01N\n",
              "23052  1019970708417  본 발명은 반시류 곤충 해충을 박멸하기 위해 바실루스 츄린겐시스  비.티.  내독소...  A01N\n",
              "23061  1019970708543  본 발명은 알콜 함량이 낮으며  표면의 신속한 1단계 소독 및 건조가 가능한 박테리...  A01N\n",
              "23062  1019970708584  본 발명은 하기 일반식 1 으로 나타낸 페닐알칸아미드 유도체 및 이를 유효성분으로서...  A01N\n",
              "23074  1019970708671  본 발명은 하기 일반식 Ⅰ 의 페닐피리다지논  이 화합물의 제조 방법  제초제로서의...  A01N\n",
              "\n",
              "[1730 rows x 3 columns]"
            ]
          },
          "execution_count": 24,
          "metadata": {},
          "output_type": "execute_result"
        }
      ],
      "source": [
        "df[df['ipc코드'] == 'A01N']"
      ]
    },
    {
      "cell_type": "markdown",
      "metadata": {
        "id": "JDVnpBdbyc-B"
      },
      "source": [
        "CASE2. ipc 코드 맞출 확률 계산"
      ]
    },
    {
      "cell_type": "code",
      "execution_count": 6,
      "metadata": {
        "id": "GW8_75n8uw36"
      },
      "outputs": [],
      "source": [
        "from tqdm import tqdm\n",
        "# 확률계산 함수 설정\n",
        "def calculate_matching_ipc_probability(df, tokenizer, model, num):\n",
        "    matching_count = 0\n",
        "    big_count = 0\n",
        "    total_count = 0\n",
        "    \n",
        "    A = 0\n",
        "    B = 0\n",
        "    C = 0\n",
        "    D = 0\n",
        "    E = 0\n",
        "    F = 0\n",
        "    G = 0\n",
        "    \n",
        "    a = 0\n",
        "    b = 0\n",
        "    c = 0\n",
        "    d = 0\n",
        "    e = 0\n",
        "    f = 0\n",
        "    g = 0\n",
        "    \n",
        "    a_same = 0\n",
        "    b_same = 0\n",
        "    c_same = 0\n",
        "    d_same = 0\n",
        "    e_same = 0\n",
        "    f_same = 0\n",
        "    g_same = 0\n",
        "    \n",
        "    \n",
        "    \n",
        "    for _ in tqdm(range(num)):\n",
        "        # df 내 100개 데이터 랜덤 추출\n",
        "\n",
        "        random_index = np.random.randint(len(df)-1)\n",
        "        random_row = df.iloc[random_index]\n",
        "        df = df.drop(random_index)\n",
        "        df = df.reset_index(drop = True)\n",
        "        \n",
        "        # 입력 문장\n",
        "        input_sentence = random_row['초록']\n",
        "\n",
        "        # 입력 문장 인코딩\n",
        "        encoded_input = tokenizer(input_sentence, padding=True, truncation=True, return_tensors='pt')\n",
        "        with torch.no_grad():\n",
        "            model_output = model(**encoded_input)\n",
        "        input_embedding = mean_pooling(model_output, encoded_input['attention_mask']).numpy()\n",
        "\n",
        "        # 코사인 유사도 계산\n",
        "        similarity_scores = cosine_similarity(input_embedding, np.stack(df['embeddings'].to_numpy(), axis=0))\n",
        "\n",
        "        # 가장 유사한 인덱스 추출\n",
        "        most_similar_row_index = np.argmax(similarity_scores)\n",
        "        most_similar_row = df.iloc[most_similar_row_index]\n",
        "\n",
        "        # ipc코드 매칭 여부\n",
        "        ran_IPC = random_row['ipc코드']\n",
        "        sim_IPC = most_similar_row['ipc코드']\n",
        "        \n",
        "        if ran_IPC == sim_IPC:\n",
        "            matching_count += 1\n",
        "        if ran_IPC[0] == sim_IPC[0]:\n",
        "            big_count += 1\n",
        "        \n",
        "        if ran_IPC[0] == 'A':\n",
        "            A += 1\n",
        "            if sim_IPC[0] == 'A':\n",
        "                a += 1\n",
        "                if ran_IPC == sim_IPC:\n",
        "                    a_same += 1\n",
        "        if ran_IPC[0] == 'B':\n",
        "            B += 1\n",
        "            if sim_IPC[0] == 'B':\n",
        "                b += 1\n",
        "                if ran_IPC == sim_IPC:\n",
        "                    b_same += 1                \n",
        "        if ran_IPC[0] == 'C':\n",
        "            C += 1\n",
        "            if sim_IPC[0] == 'C':\n",
        "                c += 1\n",
        "                if ran_IPC == sim_IPC:\n",
        "                    c_same += 1                \n",
        "        if ran_IPC[0] == 'D':\n",
        "            D += 1\n",
        "            if sim_IPC[0] == 'D':\n",
        "                d += 1\n",
        "                if ran_IPC == sim_IPC:\n",
        "                    d_same += 1                \n",
        "        if ran_IPC[0] == 'E':\n",
        "            E += 1\n",
        "            if sim_IPC[0] == 'E':\n",
        "                e += 1\n",
        "                if ran_IPC == sim_IPC:\n",
        "                    e_same += 1                \n",
        "        if ran_IPC[0] == 'F':\n",
        "            F += 1\n",
        "            if sim_IPC[0] == 'F':\n",
        "                f += 1\n",
        "                if ran_IPC == sim_IPC:\n",
        "                    f_same += 1                \n",
        "        if ran_IPC[0] == 'G':\n",
        "            G += 1\n",
        "            if sim_IPC[0] == 'G':\n",
        "                g += 1\n",
        "                if ran_IPC == sim_IPC:\n",
        "                    g_same += 1                \n",
        "                                                                                                   \n",
        "        \n",
        "\n",
        "        total_count += 1\n",
        "        # 복원\n",
        "        df = df.append(random_row)\n",
        "    \n",
        "    big_probability = big_count / total_count\n",
        "    matching_probability = matching_count / total_count\n",
        "    last = [a/A, b/B, c/C, d/D, e/E, f/F, g/G]\n",
        "    semi = [a_same/a, b_same/b, c_same/c, d_same/d, e_same/e, f_same/f, g_same/g]\n",
        "    print('*' * 30)\n",
        "    print(f\"ipc코드 4자리 맞출 확률 : {matching_probability*100}'%' \")\n",
        "    print(f\"ipc코드 대분류 맞출 확률 : {big_probability*100}'%' \")\n",
        "    print(f\"소분류 A 맞출 확률 : {last[0]*100}'%' \")\n",
        "    print(f\"소분류 B 맞출 확률 : {last[1]*100}'%' \")\n",
        "    print(f\"소분류 C 맞출 확률 : {last[2]*100}'%' \")\n",
        "    print(f\"소분류 D 맞출 확률 : {last[3]*100}'%' \")\n",
        "    print(f\"소분류 E 맞출 확률 : {last[4]*100}'%' \")\n",
        "    print(f\"소분류 F 맞출 확률 : {last[5]*100}'%' \")\n",
        "    print(f\"소분류 F 맞출 확률 : {last[6]*100}'%' \")\n",
        "    print('*' * 30)\n",
        "    print(f\"4자리 맞출 확률 : {(a_same + b_same + c_same + d_same + e_same + f_same + g_same)/(a+b+c+d+e+f+g)}\")\n",
        "    print(f\"A 4자리 맞출 확률 : {semi[0]*100}'%' \")\n",
        "    print(f\"B 4자리 맞출 확률 : {semi[1]*100}'%' \")\n",
        "    print(f\"C 4자리 맞출 확률 : {semi[2]*100}'%' \")\n",
        "    print(f\"D 4자리 맞출 확률 : {semi[3]*100}'%' \")\n",
        "    print(f\"E 4자리 맞출 확률 : {semi[4]*100}'%' \")\n",
        "    print(f\"F 4자리 맞출 확률 : {semi[5]*100}'%' \")\n",
        "    print(f\"F 4자리 맞출 확률 : {semi[6]*100}'%' \")    \n",
        "    \n",
        "    return matching_probability, big_probability, last\n",
        "\n",
        "\n"
      ]
    },
    {
      "cell_type": "code",
      "execution_count": 61,
      "metadata": {},
      "outputs": [
        {
          "name": "stderr",
          "output_type": "stream",
          "text": [
            "100%|██████████| 1000/1000 [06:36<00:00,  2.52it/s]"
          ]
        },
        {
          "name": "stdout",
          "output_type": "stream",
          "text": [
            "******************************\n",
            "ipc코드 4자리 맞출 확률 : 30.599999999999998'%' \n",
            "ipc코드 대분류 맞출 확률 : 62.3'%' \n",
            "소분류 A 맞출 확률 : 58.857142857142854'%' \n",
            "소분류 B 맞출 확률 : 56.61764705882353'%' \n",
            "소분류 C 맞출 확률 : 75.21367521367522'%' \n",
            "소분류 D 맞출 확률 : 55.55555555555556'%' \n",
            "소분류 E 맞출 확률 : 62.7906976744186'%' \n",
            "소분류 F 맞출 확률 : 60.71428571428571'%' \n",
            "소분류 F 맞출 확률 : 68.39080459770115'%' \n",
            "******************************\n",
            "4자리 맞출 확률 : 0.4911717495987159\n",
            "A 4자리 맞출 확률 : 66.99029126213593'%' \n",
            "B 4자리 맞출 확률 : 37.66233766233766'%' \n",
            "C 4자리 맞출 확률 : 43.18181818181818'%' \n",
            "D 4자리 맞출 확률 : 55.00000000000001'%' \n",
            "E 4자리 맞출 확률 : 55.55555555555556'%' \n",
            "F 4자리 맞출 확률 : 50.588235294117645'%' \n",
            "F 4자리 맞출 확률 : 47.89915966386555'%' \n"
          ]
        },
        {
          "name": "stderr",
          "output_type": "stream",
          "text": [
            "\n"
          ]
        }
      ],
      "source": [
        "import random\n",
        "import warnings\n",
        "warnings.filterwarnings('ignore')\n",
        "\n",
        "seed = 0\n",
        "\n",
        "random.seed(seed)\n",
        "np.random.seed(seed)\n",
        "device = 'cuda' if torch.cuda.is_available() else 'cpu'\n",
        "torch.manual_seed(seed)\n",
        "if device == 'cuda':\n",
        "    torch.cuda.manual_seed_all(seed)\n",
        "torch.backends.cudnn.deterministic = True\n",
        "torch.backends.cudnn.benchmark = False\n",
        "\n",
        "# 결과 도출\n",
        "matching_probability, big_probability, last = calculate_matching_ipc_probability(df.copy(), tokenizer, model, 1000)"
      ]
    }
  ],
  "metadata": {
    "colab": {
      "private_outputs": true,
      "provenance": []
    },
    "kernelspec": {
      "display_name": "Python 3",
      "name": "python3"
    },
    "language_info": {
      "codemirror_mode": {
        "name": "ipython",
        "version": 3
      },
      "file_extension": ".py",
      "mimetype": "text/x-python",
      "name": "python",
      "nbconvert_exporter": "python",
      "pygments_lexer": "ipython3",
      "version": "3.10.9"
    }
  },
  "nbformat": 4,
  "nbformat_minor": 0
}
