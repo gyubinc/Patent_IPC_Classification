{
 "cells": [
  {
   "cell_type": "markdown",
   "metadata": {},
   "source": [
    "# 1.데이터 정보"
   ]
  },
  {
   "cell_type": "code",
   "execution_count": 10,
   "metadata": {},
   "outputs": [],
   "source": [
    "'''\n",
    "현재 H IPC CODE 데이터가 없음\n",
    "-> 없이 진행\n",
    "'''\n",
    "\n",
    "import pandas as pd\n",
    "\n",
    "A = pd.read_csv('data/evenly_sampled_A _origin_ipc.csv')\n",
    "B = pd.read_csv('data/evenly_sampled_B _origin_ipc.csv')\n",
    "C = pd.read_csv('data/evenly_sampled_C _origin_ipc.csv')\n",
    "D = pd.read_csv('data/evenly_sampled_D _origin_ipc.csv')\n",
    "E = pd.read_csv('data/evenly_sampled_E _origin_ipc.csv')\n",
    "F = pd.read_csv('data/evenly_sampled_F _origin_ipc.csv')\n",
    "G = pd.read_csv('data/evenly_sampled_G _origin_ipc.csv')"
   ]
  },
  {
   "cell_type": "code",
   "execution_count": 7,
   "metadata": {},
   "outputs": [],
   "source": [
    "TOTAL = [A,B,C,D,E,F,G]\n",
    "index = ['A', 'B', 'C', 'D', 'E', 'F', 'G']"
   ]
  },
  {
   "cell_type": "code",
   "execution_count": 8,
   "metadata": {},
   "outputs": [
    {
     "name": "stdout",
     "output_type": "stream",
     "text": [
      "A code shape : (189422, 3)\n",
      "B code shape : (303790, 3)\n",
      "C code shape : (150108, 3)\n",
      "D code shape : (46462, 3)\n",
      "E code shape : (85776, 3)\n",
      "F code shape : (171213, 3)\n",
      "G code shape : (164404, 3)\n"
     ]
    }
   ],
   "source": [
    "for i, data in enumerate(TOTAL):\n",
    "    print(f'{index[i]} code shape : {data.shape}')"
   ]
  },
  {
   "cell_type": "code",
   "execution_count": 9,
   "metadata": {},
   "outputs": [
    {
     "data": {
      "text/html": [
       "<div>\n",
       "<style scoped>\n",
       "    .dataframe tbody tr th:only-of-type {\n",
       "        vertical-align: middle;\n",
       "    }\n",
       "\n",
       "    .dataframe tbody tr th {\n",
       "        vertical-align: top;\n",
       "    }\n",
       "\n",
       "    .dataframe thead th {\n",
       "        text-align: right;\n",
       "    }\n",
       "</style>\n",
       "<table border=\"1\" class=\"dataframe\">\n",
       "  <thead>\n",
       "    <tr style=\"text-align: right;\">\n",
       "      <th></th>\n",
       "      <th>출원번호</th>\n",
       "      <th>초록</th>\n",
       "      <th>ipc코드</th>\n",
       "    </tr>\n",
       "  </thead>\n",
       "  <tbody>\n",
       "    <tr>\n",
       "      <th>0</th>\n",
       "      <td>1019790001108</td>\n",
       "      <td>&amp;quot;내용 없음&amp;quot;</td>\n",
       "      <td>A01N</td>\n",
       "    </tr>\n",
       "    <tr>\n",
       "      <th>1</th>\n",
       "      <td>1019820000038</td>\n",
       "      <td>[목적]구조식(I)의 N-할로알킬 티오벤즈아닐리드 살균제 및 그 제조방법을 제공하는...</td>\n",
       "      <td>A01N</td>\n",
       "    </tr>\n",
       "    <tr>\n",
       "      <th>2</th>\n",
       "      <td>1019820005041</td>\n",
       "      <td>커피 제품을 제조하는 방법에 관한 것으로, 강화된 방향성분을 갖는 가용성 커피 제품...</td>\n",
       "      <td>A23F</td>\n",
       "    </tr>\n",
       "    <tr>\n",
       "      <th>3</th>\n",
       "      <td>1019820005041</td>\n",
       "      <td>커피 제품을 제조하는 방법에 관한 것으로, 강화된 방향성분을 갖는 가용성 커피 제품...</td>\n",
       "      <td>A23F</td>\n",
       "    </tr>\n",
       "    <tr>\n",
       "      <th>4</th>\n",
       "      <td>1019830003001</td>\n",
       "      <td>[목적]공격억제활성 및 항정신병활성을 지닌 9-[3-(3,5-시스-디페닐 피페라지노...</td>\n",
       "      <td>A61K</td>\n",
       "    </tr>\n",
       "  </tbody>\n",
       "</table>\n",
       "</div>"
      ],
      "text/plain": [
       "            출원번호                                                 초록 ipc코드\n",
       "0  1019790001108                                  &quot;내용 없음&quot;  A01N\n",
       "1  1019820000038  [목적]구조식(I)의 N-할로알킬 티오벤즈아닐리드 살균제 및 그 제조방법을 제공하는...  A01N\n",
       "2  1019820005041  커피 제품을 제조하는 방법에 관한 것으로, 강화된 방향성분을 갖는 가용성 커피 제품...  A23F\n",
       "3  1019820005041  커피 제품을 제조하는 방법에 관한 것으로, 강화된 방향성분을 갖는 가용성 커피 제품...  A23F\n",
       "4  1019830003001  [목적]공격억제활성 및 항정신병활성을 지닌 9-[3-(3,5-시스-디페닐 피페라지노...  A61K"
      ]
     },
     "execution_count": 9,
     "metadata": {},
     "output_type": "execute_result"
    }
   ],
   "source": [
    "A.head(5)"
   ]
  },
  {
   "cell_type": "markdown",
   "metadata": {},
   "source": [
    "중복되는 데이터가 좀 존재하는 걸 확인할 수 있음\n",
    "-> 확인 결과 18만 개 데이터 중 7만개 가량 중복(삭제 필)"
   ]
  },
  {
   "cell_type": "code",
   "execution_count": 17,
   "metadata": {},
   "outputs": [
    {
     "data": {
      "text/html": [
       "<div>\n",
       "<style scoped>\n",
       "    .dataframe tbody tr th:only-of-type {\n",
       "        vertical-align: middle;\n",
       "    }\n",
       "\n",
       "    .dataframe tbody tr th {\n",
       "        vertical-align: top;\n",
       "    }\n",
       "\n",
       "    .dataframe thead th {\n",
       "        text-align: right;\n",
       "    }\n",
       "</style>\n",
       "<table border=\"1\" class=\"dataframe\">\n",
       "  <thead>\n",
       "    <tr style=\"text-align: right;\">\n",
       "      <th></th>\n",
       "      <th>출원번호</th>\n",
       "      <th>초록</th>\n",
       "      <th>ipc코드</th>\n",
       "    </tr>\n",
       "  </thead>\n",
       "  <tbody>\n",
       "    <tr>\n",
       "      <th>3</th>\n",
       "      <td>1019820005041</td>\n",
       "      <td>커피 제품을 제조하는 방법에 관한 것으로, 강화된 방향성분을 갖는 가용성 커피 제품...</td>\n",
       "      <td>A23F</td>\n",
       "    </tr>\n",
       "    <tr>\n",
       "      <th>7</th>\n",
       "      <td>1019830003160</td>\n",
       "      <td>[목적]모발의 손상이 없고, 다시 파마하고자 할때 파마가 잘되지 않는 일이 없고, ...</td>\n",
       "      <td>A61K</td>\n",
       "    </tr>\n",
       "    <tr>\n",
       "      <th>8</th>\n",
       "      <td>1019830003160</td>\n",
       "      <td>[목적]모발의 손상이 없고, 다시 파마하고자 할때 파마가 잘되지 않는 일이 없고, ...</td>\n",
       "      <td>A61K</td>\n",
       "    </tr>\n",
       "    <tr>\n",
       "      <th>12</th>\n",
       "      <td>1019830004469</td>\n",
       "      <td>[구성]특허 82-2553(1982. 6.8)에서 분할 출원. 공개 번호 84-18...</td>\n",
       "      <td>A23L</td>\n",
       "    </tr>\n",
       "    <tr>\n",
       "      <th>14</th>\n",
       "      <td>1019830005049</td>\n",
       "      <td>[구성]특허 80-1475(80.4.9)에서 분할 출원                ...</td>\n",
       "      <td>A01C</td>\n",
       "    </tr>\n",
       "    <tr>\n",
       "      <th>...</th>\n",
       "      <td>...</td>\n",
       "      <td>...</td>\n",
       "      <td>...</td>\n",
       "    </tr>\n",
       "    <tr>\n",
       "      <th>189399</th>\n",
       "      <td>2020100010185</td>\n",
       "      <td>본 고안은 팔다리착용용 다목적 가방에 관한 것으로, 보다 상세하게는 인체의 팔과 다...</td>\n",
       "      <td>A45F</td>\n",
       "    </tr>\n",
       "    <tr>\n",
       "      <th>189407</th>\n",
       "      <td>2020100011994</td>\n",
       "      <td>본 고안은 아이스가방을 배낭에 연결한 것으로 더욱 상세하게는 가방 밑에 아이스 박스...</td>\n",
       "      <td>A45F</td>\n",
       "    </tr>\n",
       "    <tr>\n",
       "      <th>189413</th>\n",
       "      <td>2020100012872</td>\n",
       "      <td>본 고안은 통풍성능이 향상된 배낭에 관한 것으로, 더욱 상세하게는 본체; 상기 본체...</td>\n",
       "      <td>A45F</td>\n",
       "    </tr>\n",
       "    <tr>\n",
       "      <th>189417</th>\n",
       "      <td>2020100013114</td>\n",
       "      <td>본 고안은 평상시에 물품을 수납하여 휴대하여 사용하는 배낭의 전면부재와 후면부재 및...</td>\n",
       "      <td>A45F</td>\n",
       "    </tr>\n",
       "    <tr>\n",
       "      <th>189419</th>\n",
       "      <td>2020100013115</td>\n",
       "      <td>본 고안은 등판부재와 바닥부재 및 전면부재로 구성되는 몸체에 각각 구성되는 좌측면부...</td>\n",
       "      <td>A45F</td>\n",
       "    </tr>\n",
       "  </tbody>\n",
       "</table>\n",
       "<p>75511 rows × 3 columns</p>\n",
       "</div>"
      ],
      "text/plain": [
       "                 출원번호                                                 초록 ipc코드\n",
       "3       1019820005041  커피 제품을 제조하는 방법에 관한 것으로, 강화된 방향성분을 갖는 가용성 커피 제품...  A23F\n",
       "7       1019830003160  [목적]모발의 손상이 없고, 다시 파마하고자 할때 파마가 잘되지 않는 일이 없고, ...  A61K\n",
       "8       1019830003160  [목적]모발의 손상이 없고, 다시 파마하고자 할때 파마가 잘되지 않는 일이 없고, ...  A61K\n",
       "12      1019830004469  [구성]특허 82-2553(1982. 6.8)에서 분할 출원. 공개 번호 84-18...  A23L\n",
       "14      1019830005049  [구성]특허 80-1475(80.4.9)에서 분할 출원                ...  A01C\n",
       "...               ...                                                ...   ...\n",
       "189399  2020100010185  본 고안은 팔다리착용용 다목적 가방에 관한 것으로, 보다 상세하게는 인체의 팔과 다...  A45F\n",
       "189407  2020100011994  본 고안은 아이스가방을 배낭에 연결한 것으로 더욱 상세하게는 가방 밑에 아이스 박스...  A45F\n",
       "189413  2020100012872  본 고안은 통풍성능이 향상된 배낭에 관한 것으로, 더욱 상세하게는 본체; 상기 본체...  A45F\n",
       "189417  2020100013114  본 고안은 평상시에 물품을 수납하여 휴대하여 사용하는 배낭의 전면부재와 후면부재 및...  A45F\n",
       "189419  2020100013115  본 고안은 등판부재와 바닥부재 및 전면부재로 구성되는 몸체에 각각 구성되는 좌측면부...  A45F\n",
       "\n",
       "[75511 rows x 3 columns]"
      ]
     },
     "metadata": {},
     "output_type": "display_data"
    }
   ],
   "source": [
    "# 중복된 행 존재하는지 체크 \n",
    "display(A[A.duplicated()])"
   ]
  },
  {
   "cell_type": "markdown",
   "metadata": {},
   "source": [
    "## 중복 데이터 삭제 코드"
   ]
  },
  {
   "cell_type": "code",
   "execution_count": 11,
   "metadata": {},
   "outputs": [
    {
     "name": "stdout",
     "output_type": "stream",
     "text": [
      "수정 전 A code shape : (189422, 3)\n",
      "수정 후 A code shape : (113911, 3)\n",
      "------------------------------\n",
      "수정 전 B code shape : (303790, 3)\n",
      "수정 후 B code shape : (191839, 3)\n",
      "------------------------------\n",
      "수정 전 C code shape : (150108, 3)\n",
      "수정 후 C code shape : (93652, 3)\n",
      "------------------------------\n",
      "수정 전 D code shape : (46462, 3)\n",
      "수정 후 D code shape : (25428, 3)\n",
      "------------------------------\n",
      "수정 전 E code shape : (85776, 3)\n",
      "수정 후 E code shape : (55803, 3)\n",
      "------------------------------\n",
      "수정 전 F code shape : (171213, 3)\n",
      "수정 후 F code shape : (108916, 3)\n",
      "------------------------------\n",
      "수정 전 G code shape : (164404, 3)\n",
      "수정 후 G code shape : (119430, 3)\n",
      "------------------------------\n"
     ]
    }
   ],
   "source": [
    "for i, data in enumerate(TOTAL):\n",
    "    print(f'수정 전 {index[i]} code shape : {data.shape}')\n",
    "    data.drop_duplicates(inplace = True)\n",
    "    print(f'수정 후 {index[i]} code shape : {data.shape}')\n",
    "    print('-' * 30)"
   ]
  },
  {
   "cell_type": "code",
   "execution_count": 13,
   "metadata": {},
   "outputs": [],
   "source": [
    "'''\n",
    "아래 코드는 모든 전처리 끝나고 마지막에 실행\n",
    "'''\n",
    "\n",
    "A.to_csv('A_IPC_final')\n",
    "B.to_csv('B_IPC_final')\n",
    "C.to_csv('C_IPC_final')\n",
    "D.to_csv('D_IPC_final')\n",
    "E.to_csv('E_IPC_final')\n",
    "F.to_csv('F_IPC_final')\n",
    "G.to_csv('G_IPC_final')"
   ]
  }
 ],
 "metadata": {
  "kernelspec": {
   "display_name": "gyubin",
   "language": "python",
   "name": "python3"
  },
  "language_info": {
   "codemirror_mode": {
    "name": "ipython",
    "version": 3
   },
   "file_extension": ".py",
   "mimetype": "text/x-python",
   "name": "python",
   "nbconvert_exporter": "python",
   "pygments_lexer": "ipython3",
   "version": "3.10.9"
  }
 },
 "nbformat": 4,
 "nbformat_minor": 2
}
