{
 "cells": [
  {
   "cell_type": "markdown",
   "metadata": {},
   "source": [
    "# 1.데이터"
   ]
  },
  {
   "cell_type": "code",
   "execution_count": 1,
   "metadata": {},
   "outputs": [],
   "source": [
    "'''\n",
    "현재 H IPC CODE 데이터가 없음\n",
    "-> 없이 진행\n",
    "'''\n",
    "\n",
    "import pandas as pd\n",
    "\n",
    "A = pd.read_csv('data/evenly_sampled_A _origin_ipc.csv')\n",
    "B = pd.read_csv('data/evenly_sampled_B _origin_ipc.csv')\n",
    "C = pd.read_csv('data/evenly_sampled_C _origin_ipc.csv')\n",
    "D = pd.read_csv('data/evenly_sampled_D _origin_ipc.csv')\n",
    "E = pd.read_csv('data/evenly_sampled_E _origin_ipc.csv')\n",
    "F = pd.read_csv('data/evenly_sampled_F _origin_ipc.csv')\n",
    "G = pd.read_csv('data/evenly_sampled_G _origin_ipc.csv')"
   ]
  },
  {
   "cell_type": "code",
   "execution_count": 2,
   "metadata": {},
   "outputs": [],
   "source": [
    "TOTAL = [A,B,C,D,E,F,G]\n",
    "index = ['A', 'B', 'C', 'D', 'E', 'F', 'G']"
   ]
  },
  {
   "cell_type": "markdown",
   "metadata": {},
   "source": [
    "## 데이터 크기 확인"
   ]
  },
  {
   "cell_type": "code",
   "execution_count": 38,
   "metadata": {},
   "outputs": [
    {
     "name": "stdout",
     "output_type": "stream",
     "text": [
      "A code shape : (113911, 3)\n",
      "B code shape : (191839, 3)\n",
      "C code shape : (93652, 3)\n",
      "D code shape : (25428, 3)\n",
      "E code shape : (55803, 3)\n",
      "F code shape : (108916, 3)\n",
      "G code shape : (119430, 3)\n"
     ]
    }
   ],
   "source": [
    "for i, data in enumerate(TOTAL):\n",
    "    print(f'{index[i]} code shape : {data.shape}')"
   ]
  },
  {
   "cell_type": "code",
   "execution_count": 39,
   "metadata": {},
   "outputs": [
    {
     "data": {
      "text/html": [
       "<div>\n",
       "<style scoped>\n",
       "    .dataframe tbody tr th:only-of-type {\n",
       "        vertical-align: middle;\n",
       "    }\n",
       "\n",
       "    .dataframe tbody tr th {\n",
       "        vertical-align: top;\n",
       "    }\n",
       "\n",
       "    .dataframe thead th {\n",
       "        text-align: right;\n",
       "    }\n",
       "</style>\n",
       "<table border=\"1\" class=\"dataframe\">\n",
       "  <thead>\n",
       "    <tr style=\"text-align: right;\">\n",
       "      <th></th>\n",
       "      <th>출원번호</th>\n",
       "      <th>초록</th>\n",
       "      <th>ipc코드</th>\n",
       "    </tr>\n",
       "  </thead>\n",
       "  <tbody>\n",
       "    <tr>\n",
       "      <th>0</th>\n",
       "      <td>1019790001108</td>\n",
       "      <td>&amp;quot;내용 없음&amp;quot;</td>\n",
       "      <td>A01N</td>\n",
       "    </tr>\n",
       "    <tr>\n",
       "      <th>1</th>\n",
       "      <td>1019820000038</td>\n",
       "      <td>[목적]구조식(I)의 N-할로알킬 티오벤즈아닐리드 살균제 및 그 제조방법을 제공하는...</td>\n",
       "      <td>A01N</td>\n",
       "    </tr>\n",
       "    <tr>\n",
       "      <th>2</th>\n",
       "      <td>1019820005041</td>\n",
       "      <td>커피 제품을 제조하는 방법에 관한 것으로, 강화된 방향성분을 갖는 가용성 커피 제품...</td>\n",
       "      <td>A23F</td>\n",
       "    </tr>\n",
       "    <tr>\n",
       "      <th>3</th>\n",
       "      <td>1019830003001</td>\n",
       "      <td>[목적]공격억제활성 및 항정신병활성을 지닌 9-[3-(3,5-시스-디페닐 피페라지노...</td>\n",
       "      <td>A61K</td>\n",
       "    </tr>\n",
       "    <tr>\n",
       "      <th>4</th>\n",
       "      <td>1019830003002</td>\n",
       "      <td>[목적]본 발명은 가치있는 공격억제 활성 및 항정신병 활성을 지닌 9-[3-(3,5...</td>\n",
       "      <td>A61K</td>\n",
       "    </tr>\n",
       "  </tbody>\n",
       "</table>\n",
       "</div>"
      ],
      "text/plain": [
       "            출원번호                                                 초록 ipc코드\n",
       "0  1019790001108                                  &quot;내용 없음&quot;  A01N\n",
       "1  1019820000038  [목적]구조식(I)의 N-할로알킬 티오벤즈아닐리드 살균제 및 그 제조방법을 제공하는...  A01N\n",
       "2  1019820005041  커피 제품을 제조하는 방법에 관한 것으로, 강화된 방향성분을 갖는 가용성 커피 제품...  A23F\n",
       "3  1019830003001  [목적]공격억제활성 및 항정신병활성을 지닌 9-[3-(3,5-시스-디페닐 피페라지노...  A61K\n",
       "4  1019830003002  [목적]본 발명은 가치있는 공격억제 활성 및 항정신병 활성을 지닌 9-[3-(3,5...  A61K"
      ]
     },
     "execution_count": 39,
     "metadata": {},
     "output_type": "execute_result"
    }
   ],
   "source": [
    "A.head(5)"
   ]
  },
  {
   "cell_type": "markdown",
   "metadata": {},
   "source": [
    "중복되는 데이터가 좀 존재하는 걸 확인할 수 있음\n",
    "-> 확인 결과 18만 개 데이터 중 7만개 가량 중복(삭제 필)"
   ]
  },
  {
   "cell_type": "markdown",
   "metadata": {},
   "source": [
    "## 중복 데이터 확인"
   ]
  },
  {
   "cell_type": "code",
   "execution_count": 17,
   "metadata": {},
   "outputs": [
    {
     "data": {
      "text/html": [
       "<div>\n",
       "<style scoped>\n",
       "    .dataframe tbody tr th:only-of-type {\n",
       "        vertical-align: middle;\n",
       "    }\n",
       "\n",
       "    .dataframe tbody tr th {\n",
       "        vertical-align: top;\n",
       "    }\n",
       "\n",
       "    .dataframe thead th {\n",
       "        text-align: right;\n",
       "    }\n",
       "</style>\n",
       "<table border=\"1\" class=\"dataframe\">\n",
       "  <thead>\n",
       "    <tr style=\"text-align: right;\">\n",
       "      <th></th>\n",
       "      <th>출원번호</th>\n",
       "      <th>초록</th>\n",
       "      <th>ipc코드</th>\n",
       "    </tr>\n",
       "  </thead>\n",
       "  <tbody>\n",
       "    <tr>\n",
       "      <th>3</th>\n",
       "      <td>1019820005041</td>\n",
       "      <td>커피 제품을 제조하는 방법에 관한 것으로, 강화된 방향성분을 갖는 가용성 커피 제품...</td>\n",
       "      <td>A23F</td>\n",
       "    </tr>\n",
       "    <tr>\n",
       "      <th>7</th>\n",
       "      <td>1019830003160</td>\n",
       "      <td>[목적]모발의 손상이 없고, 다시 파마하고자 할때 파마가 잘되지 않는 일이 없고, ...</td>\n",
       "      <td>A61K</td>\n",
       "    </tr>\n",
       "    <tr>\n",
       "      <th>8</th>\n",
       "      <td>1019830003160</td>\n",
       "      <td>[목적]모발의 손상이 없고, 다시 파마하고자 할때 파마가 잘되지 않는 일이 없고, ...</td>\n",
       "      <td>A61K</td>\n",
       "    </tr>\n",
       "    <tr>\n",
       "      <th>12</th>\n",
       "      <td>1019830004469</td>\n",
       "      <td>[구성]특허 82-2553(1982. 6.8)에서 분할 출원. 공개 번호 84-18...</td>\n",
       "      <td>A23L</td>\n",
       "    </tr>\n",
       "    <tr>\n",
       "      <th>14</th>\n",
       "      <td>1019830005049</td>\n",
       "      <td>[구성]특허 80-1475(80.4.9)에서 분할 출원                ...</td>\n",
       "      <td>A01C</td>\n",
       "    </tr>\n",
       "    <tr>\n",
       "      <th>...</th>\n",
       "      <td>...</td>\n",
       "      <td>...</td>\n",
       "      <td>...</td>\n",
       "    </tr>\n",
       "    <tr>\n",
       "      <th>189399</th>\n",
       "      <td>2020100010185</td>\n",
       "      <td>본 고안은 팔다리착용용 다목적 가방에 관한 것으로, 보다 상세하게는 인체의 팔과 다...</td>\n",
       "      <td>A45F</td>\n",
       "    </tr>\n",
       "    <tr>\n",
       "      <th>189407</th>\n",
       "      <td>2020100011994</td>\n",
       "      <td>본 고안은 아이스가방을 배낭에 연결한 것으로 더욱 상세하게는 가방 밑에 아이스 박스...</td>\n",
       "      <td>A45F</td>\n",
       "    </tr>\n",
       "    <tr>\n",
       "      <th>189413</th>\n",
       "      <td>2020100012872</td>\n",
       "      <td>본 고안은 통풍성능이 향상된 배낭에 관한 것으로, 더욱 상세하게는 본체; 상기 본체...</td>\n",
       "      <td>A45F</td>\n",
       "    </tr>\n",
       "    <tr>\n",
       "      <th>189417</th>\n",
       "      <td>2020100013114</td>\n",
       "      <td>본 고안은 평상시에 물품을 수납하여 휴대하여 사용하는 배낭의 전면부재와 후면부재 및...</td>\n",
       "      <td>A45F</td>\n",
       "    </tr>\n",
       "    <tr>\n",
       "      <th>189419</th>\n",
       "      <td>2020100013115</td>\n",
       "      <td>본 고안은 등판부재와 바닥부재 및 전면부재로 구성되는 몸체에 각각 구성되는 좌측면부...</td>\n",
       "      <td>A45F</td>\n",
       "    </tr>\n",
       "  </tbody>\n",
       "</table>\n",
       "<p>75511 rows × 3 columns</p>\n",
       "</div>"
      ],
      "text/plain": [
       "                 출원번호                                                 초록 ipc코드\n",
       "3       1019820005041  커피 제품을 제조하는 방법에 관한 것으로, 강화된 방향성분을 갖는 가용성 커피 제품...  A23F\n",
       "7       1019830003160  [목적]모발의 손상이 없고, 다시 파마하고자 할때 파마가 잘되지 않는 일이 없고, ...  A61K\n",
       "8       1019830003160  [목적]모발의 손상이 없고, 다시 파마하고자 할때 파마가 잘되지 않는 일이 없고, ...  A61K\n",
       "12      1019830004469  [구성]특허 82-2553(1982. 6.8)에서 분할 출원. 공개 번호 84-18...  A23L\n",
       "14      1019830005049  [구성]특허 80-1475(80.4.9)에서 분할 출원                ...  A01C\n",
       "...               ...                                                ...   ...\n",
       "189399  2020100010185  본 고안은 팔다리착용용 다목적 가방에 관한 것으로, 보다 상세하게는 인체의 팔과 다...  A45F\n",
       "189407  2020100011994  본 고안은 아이스가방을 배낭에 연결한 것으로 더욱 상세하게는 가방 밑에 아이스 박스...  A45F\n",
       "189413  2020100012872  본 고안은 통풍성능이 향상된 배낭에 관한 것으로, 더욱 상세하게는 본체; 상기 본체...  A45F\n",
       "189417  2020100013114  본 고안은 평상시에 물품을 수납하여 휴대하여 사용하는 배낭의 전면부재와 후면부재 및...  A45F\n",
       "189419  2020100013115  본 고안은 등판부재와 바닥부재 및 전면부재로 구성되는 몸체에 각각 구성되는 좌측면부...  A45F\n",
       "\n",
       "[75511 rows x 3 columns]"
      ]
     },
     "metadata": {},
     "output_type": "display_data"
    }
   ],
   "source": [
    "# 중복된 행 존재하는지 체크 \n",
    "display(A[A.duplicated()])"
   ]
  },
  {
   "cell_type": "markdown",
   "metadata": {},
   "source": [
    "## 중복 데이터 삭제 코드"
   ]
  },
  {
   "cell_type": "code",
   "execution_count": 3,
   "metadata": {},
   "outputs": [],
   "source": [
    "A.drop_duplicates(inplace = True)\n",
    "A = A.reset_index(drop = True)\n",
    "B.drop_duplicates(inplace = True)\n",
    "B = B.reset_index(drop = True)\n",
    "C.drop_duplicates(inplace = True)\n",
    "C = C.reset_index(drop = True)\n",
    "D.drop_duplicates(inplace = True)\n",
    "D = D.reset_index(drop = True)\n",
    "E.drop_duplicates(inplace = True)\n",
    "E = E.reset_index(drop = True)\n",
    "F.drop_duplicates(inplace = True)\n",
    "F = F.reset_index(drop = True)\n",
    "G.drop_duplicates(inplace = True)\n",
    "G = G.reset_index(drop = True)"
   ]
  },
  {
   "cell_type": "code",
   "execution_count": null,
   "metadata": {},
   "outputs": [],
   "source": [
    "# for i, data in enumerate(TOTAL):\n",
    "#     print(f'수정 전 {index[i]} code shape : {data.shape}')\n",
    "#     data.drop_duplicates(inplace = True)\n",
    "#     data = data.reset_index(drop = True)\n",
    "#     print(f'수정 후 {index[i]} code shape : {data.shape}')\n",
    "#     print('-' * 30)"
   ]
  },
  {
   "cell_type": "markdown",
   "metadata": {},
   "source": [
    "## 특수기호 제거"
   ]
  },
  {
   "cell_type": "code",
   "execution_count": 4,
   "metadata": {},
   "outputs": [],
   "source": [
    "A[\"초록\"] = A[\"초록\"].str.replace(pat=r'[^\\w.]', repl=r' ', regex=True)\n",
    "B[\"초록\"] = B[\"초록\"].str.replace(pat=r'[^\\w.]', repl=r' ', regex=True)\n",
    "C[\"초록\"] = C[\"초록\"].str.replace(pat=r'[^\\w.]', repl=r' ', regex=True)\n",
    "D[\"초록\"] = D[\"초록\"].str.replace(pat=r'[^\\w.]', repl=r' ', regex=True)\n",
    "E[\"초록\"] = E[\"초록\"].str.replace(pat=r'[^\\w.]', repl=r' ', regex=True)\n",
    "F[\"초록\"] = F[\"초록\"].str.replace(pat=r'[^\\w.]', repl=r' ', regex=True)\n",
    "G[\"초록\"] = G[\"초록\"].str.replace(pat=r'[^\\w.]', repl=r' ', regex=True)"
   ]
  },
  {
   "cell_type": "code",
   "execution_count": 6,
   "metadata": {},
   "outputs": [
    {
     "data": {
      "text/plain": [
       "' 목적 구조식 I 의 N 할로알킬 티오벤즈아닐리드 살균제 및 그 제조방법을 제공하는 것이다. 구성 벤젠내에 용해된 치환 벤조일 클로라이드 반응물을 아닐린 반응물과 약간 분자 과잉의 HCl 수용체의 혼합물에 첨가한다. 이 혼합물을 1 2시간동안 환류한 후 냉각한다. 고체 반응생성물을 에틸아세테이트 또는 클로로포름과 같은 용제로 희석하고 물로 2회 그리고 염용액으로 1회 세척한다. 생성물을 MgSO4로 건조하고 여과 및 증발한다. 이 생성물을 건조 질소 공기하에서 건조 테트라히드로푸란내에 용해한다. 그 다음에 약간 과잉의 NaH를 교반하면서 첨가한다. 이 혼합물을 1시간동안 환류하고 냉각한다. 생성물에 THF내의 ClSCXClCYClF를 적가한다. 혼합물을 2.5시간동안 환류하고 과량의 CH2Cl2를 적가한다. 생성물을 물로 2회 세척하고 MgSO4로 건조하고 증발하여 구조식 I 의 화합물을 제조한다. 구조식에서 R은 수소 C1 C5 알킬 C1 C3 할로 알킬 할로겐 등이고 R1은 H 또는  CN이고 X 및 Y는 Cl F이나 R1이 H일시에는 동일하지 않으며 R1이  CN일시에는 X Y는 Cl이다. 효과 제조되는 화합물은 침투살균제로서 효과적이고 또한 이 화합물이 지닌 부수적인 특성에 의하여 진균식물  감염된 식용작물을 처리하는데 있어 유용하다.'"
      ]
     },
     "execution_count": 6,
     "metadata": {},
     "output_type": "execute_result"
    }
   ],
   "source": [
    "A['초록'][1]"
   ]
  },
  {
   "cell_type": "markdown",
   "metadata": {},
   "source": [
    "## 특정 IPC 데이터 추출\n",
    "\n",
    "기술수명 실험용"
   ]
  },
  {
   "cell_type": "code",
   "execution_count": 49,
   "metadata": {},
   "outputs": [],
   "source": [
    "data = A[A['ipc코드'] == 'A43B']\n",
    "data = data.reset_index(drop = True)\n",
    "data.to_csv('A43B_1424개_last.csv')"
   ]
  },
  {
   "cell_type": "markdown",
   "metadata": {},
   "source": [
    "## 중복 IPC 확인"
   ]
  },
  {
   "cell_type": "code",
   "execution_count": 7,
   "metadata": {},
   "outputs": [],
   "source": [
    "def aggregation(data):\n",
    "    count = 1\n",
    "    while count:\n",
    "        count = 0\n",
    "        for i in range(len(data)-1):\n",
    "            if data['초록'][i] == A['초록'][i+1]:\n",
    "                count += 1\n",
    "                data['ipc코드'][i] = data['ipc코드'][i] + ',' + data['ipc코드'][i+1]\n",
    "                data = data.drop(i+1)\n",
    "                data = data.reset_index(drop = True)\n",
    "                print(\"hi\")\n",
    "                break\n",
    "                \n",
    "    \n",
    "    return data\n",
    "\n",
    "def agg(x):\n",
    "    data = x.copy()\n",
    "    for i in range(len(data)-1):\n",
    "        if data['초록'][i] == data['초록'][i+1]:\n",
    "            if data['초록'][i+1] == data['초록'][i+2]:\n",
    "                data['ipc코드'][i] = data['ipc코드'][i] + ',' + data['ipc코드'][i+1] + ',' + data['ipc코드'][i+2]\n",
    "            else:\n",
    "                data['ipc코드'][i] = data['ipc코드'][i] + ',' + data['ipc코드'][i+1]\n",
    "    data = data.drop_duplicates(subset=['출원번호'], keep='first')\n",
    "    data = data.drop_duplicates(subset=['초록'], keep='first')\n",
    "    data = data.reset_index(drop = True)\n",
    "    return data"
   ]
  },
  {
   "cell_type": "code",
   "execution_count": 8,
   "metadata": {},
   "outputs": [
    {
     "name": "stderr",
     "output_type": "stream",
     "text": [
      "C:\\Users\\yeppi\\AppData\\Local\\Temp\\ipykernel_26244\\1824523294.py:24: SettingWithCopyWarning: \n",
      "A value is trying to be set on a copy of a slice from a DataFrame\n",
      "\n",
      "See the caveats in the documentation: https://pandas.pydata.org/pandas-docs/stable/user_guide/indexing.html#returning-a-view-versus-a-copy\n",
      "  data['ipc코드'][i] = data['ipc코드'][i] + ',' + data['ipc코드'][i+1]\n",
      "C:\\Users\\yeppi\\AppData\\Local\\Temp\\ipykernel_26244\\1824523294.py:22: SettingWithCopyWarning: \n",
      "A value is trying to be set on a copy of a slice from a DataFrame\n",
      "\n",
      "See the caveats in the documentation: https://pandas.pydata.org/pandas-docs/stable/user_guide/indexing.html#returning-a-view-versus-a-copy\n",
      "  data['ipc코드'][i] = data['ipc코드'][i] + ',' + data['ipc코드'][i+1] + ',' + data['ipc코드'][i+2]\n"
     ]
    }
   ],
   "source": [
    "a = agg(A)\n",
    "b = agg(B)\n",
    "c = agg(C)\n",
    "d = agg(D)\n",
    "e = agg(E)\n",
    "f = agg(F)\n",
    "g = agg(G)"
   ]
  },
  {
   "cell_type": "markdown",
   "metadata": {},
   "source": [
    "## 약간의 문제 데이터"
   ]
  },
  {
   "cell_type": "markdown",
   "metadata": {},
   "source": [
    "확인 결과 아주 조금 다른 초록이므로 그대로 쓸 수 있음"
   ]
  },
  {
   "cell_type": "code",
   "execution_count": 176,
   "metadata": {},
   "outputs": [
    {
     "data": {
      "text/plain": [
       "' 목적 본 발명은 살충제로 유용한 신규한 물질인 카바메이트 화합물 의 제조방법을 제공하기 위한 것이며 특히 살충제 또는 살충 제의 중간체로 유용한 일반식 I 의 N 설피닐 카바메이트를 제 조하는 방법을 제공하기 위한 것이다  구성 일반식 II 의 설피닐클로라이드를 일반식 RSH의 화합물을 반 응시켜 일반식 I 의 화합물을 제조하는 방법으로서 상기 식 에서 Ra는 나프틸 등이고 R3은 탄소수 1 내지 4의 알킬이고 R5는 탄소수 1 내지 12의 알킬기이다  효과 본 발명에 의한 화합물은 살충성 화합물로서 높은 수준의 살충활성과 개선된 포유동물 독성을 나타내며 본 발명의 살 충 활성은 일반적으로 본 발명 화합물이 유도되는 카바메이트 살충활성과 거의 동일하지만 포유동물 독성은 일반적으로 매 우 낮다 '"
      ]
     },
     "execution_count": 176,
     "metadata": {},
     "output_type": "execute_result"
    }
   ],
   "source": [
    "a['초록'][17]"
   ]
  },
  {
   "cell_type": "code",
   "execution_count": 177,
   "metadata": {},
   "outputs": [
    {
     "data": {
      "text/plain": [
       "' 목적 본 발명은 살충제로 유용한 신규한 물질인 카바메이트 화합물 을 제조하는 방법을 제공하기 위한 것이다  구성 일반식 II 의 설피닐클로라이드를 일반식 III 의 화합물과 반응하여 일반식 I 의 화합물을 제조하는 방법으로서 상기 식에서 R2 및 R7는 같거나 다르며 알킬 나프틸 페닐 등을 나타내며 R3 및 R6은 같거나 다르며 탄소수 1 내지 4의 알킬 또는 할로겐으로 임의로 치환된 페닐이다  효과 본 발명은 살충제로 유용하며 특히 살충제 또는 살충제의 중 간체로 유용하다 '"
      ]
     },
     "execution_count": 177,
     "metadata": {},
     "output_type": "execute_result"
    }
   ],
   "source": [
    "a['초록'][18]"
   ]
  },
  {
   "cell_type": "code",
   "execution_count": 178,
   "metadata": {},
   "outputs": [
    {
     "data": {
      "text/plain": [
       "' 목적 본 발명은 살충제로 유용한 신규한 물질인 카바메이트 화합 물을 제조하는 방법을 제공하기 위한 것이다  구성 일반식9II 의 설피닐클로라이드를 일반식 III 의 화합물과 반 응시켜 일반식 I 의 화합물을 제조하는 방법으로서 상기 식 에서 R2는 나프틸 등을 나타내고 R3은 알킬을 나타내며 R8 은 알킬 또는 할로겐 또는 알킬로 치환된 페닐이고 R9 R10 및 R11은 알킬등이다  효과 본 발명은 살충제 또는 살충제의 중간체로 유용하다 '"
      ]
     },
     "execution_count": 178,
     "metadata": {},
     "output_type": "execute_result"
    }
   ],
   "source": [
    "a['초록'][19]"
   ]
  },
  {
   "cell_type": "code",
   "execution_count": 9,
   "metadata": {},
   "outputs": [
    {
     "data": {
      "text/html": [
       "<div>\n",
       "<style scoped>\n",
       "    .dataframe tbody tr th:only-of-type {\n",
       "        vertical-align: middle;\n",
       "    }\n",
       "\n",
       "    .dataframe tbody tr th {\n",
       "        vertical-align: top;\n",
       "    }\n",
       "\n",
       "    .dataframe thead th {\n",
       "        text-align: right;\n",
       "    }\n",
       "</style>\n",
       "<table border=\"1\" class=\"dataframe\">\n",
       "  <thead>\n",
       "    <tr style=\"text-align: right;\">\n",
       "      <th></th>\n",
       "      <th>출원번호</th>\n",
       "      <th>초록</th>\n",
       "      <th>ipc코드</th>\n",
       "    </tr>\n",
       "  </thead>\n",
       "  <tbody>\n",
       "    <tr>\n",
       "      <th>0</th>\n",
       "      <td>1019790001108</td>\n",
       "      <td>quot 내용 없음 quot</td>\n",
       "      <td>A01N</td>\n",
       "    </tr>\n",
       "    <tr>\n",
       "      <th>1</th>\n",
       "      <td>1019820000038</td>\n",
       "      <td>목적 구조식 I 의 N 할로알킬 티오벤즈아닐리드 살균제 및 그 제조방법을 제공하는...</td>\n",
       "      <td>A01N</td>\n",
       "    </tr>\n",
       "    <tr>\n",
       "      <th>2</th>\n",
       "      <td>1019820005041</td>\n",
       "      <td>커피 제품을 제조하는 방법에 관한 것으로  강화된 방향성분을 갖는 가용성 커피 제품...</td>\n",
       "      <td>A23F</td>\n",
       "    </tr>\n",
       "    <tr>\n",
       "      <th>3</th>\n",
       "      <td>1019830003001</td>\n",
       "      <td>목적 공격억제활성 및 항정신병활성을 지닌 9  3  3 5 시스 디페닐 피페라지노...</td>\n",
       "      <td>A61K</td>\n",
       "    </tr>\n",
       "    <tr>\n",
       "      <th>4</th>\n",
       "      <td>1019830003002</td>\n",
       "      <td>목적 본 발명은 가치있는 공격억제 활성 및 항정신병 활성을 지닌 9  3  3 5...</td>\n",
       "      <td>A61K</td>\n",
       "    </tr>\n",
       "    <tr>\n",
       "      <th>5</th>\n",
       "      <td>1019830003160</td>\n",
       "      <td>목적 모발의 손상이 없고  다시 파마하고자 할때 파마가 잘되지 않는 일이 없고  ...</td>\n",
       "      <td>A61K,A61Q</td>\n",
       "    </tr>\n",
       "    <tr>\n",
       "      <th>6</th>\n",
       "      <td>1019830003182</td>\n",
       "      <td>목적 봉제 인형머리를 구성하는 실방울을 자동적으로 가공제조하는 자동실방울 가공장치...</td>\n",
       "      <td>A63H</td>\n",
       "    </tr>\n",
       "    <tr>\n",
       "      <th>7</th>\n",
       "      <td>1019830004469</td>\n",
       "      <td>구성 특허 82 2553 1982. 6.8 에서 분할 출원. 공개 번호 84 18...</td>\n",
       "      <td>A23L</td>\n",
       "    </tr>\n",
       "    <tr>\n",
       "      <th>8</th>\n",
       "      <td>1019830005049</td>\n",
       "      <td>구성 특허 80 1475 80.4.9 에서 분할 출원                ...</td>\n",
       "      <td>A01C</td>\n",
       "    </tr>\n",
       "    <tr>\n",
       "      <th>9</th>\n",
       "      <td>1019830005441</td>\n",
       "      <td>목적 표면장식물이 봉합선에 대하여 수직이 아닌 다른 각도로 연속되어 봉합선의 양측...</td>\n",
       "      <td>A42B</td>\n",
       "    </tr>\n",
       "    <tr>\n",
       "      <th>10</th>\n",
       "      <td>1019840000112</td>\n",
       "      <td>목적 광범위한 공업재료를 보존하기에 적합하고 안존한 보존제인 향균 작용을 갖는 o...</td>\n",
       "      <td>A01N</td>\n",
       "    </tr>\n",
       "    <tr>\n",
       "      <th>11</th>\n",
       "      <td>1019840001111</td>\n",
       "      <td>목적 일측단부에 장방형 형태의 탄성스폰지가 고정되는 브라킷트를 갖는 스폰지 자루걸...</td>\n",
       "      <td>A47L</td>\n",
       "    </tr>\n",
       "    <tr>\n",
       "      <th>12</th>\n",
       "      <td>1019840001899</td>\n",
       "      <td>구성 특허 80 3063 1980.7.31 에서 분할출원              ...</td>\n",
       "      <td>A61K,A61K</td>\n",
       "    </tr>\n",
       "    <tr>\n",
       "      <th>13</th>\n",
       "      <td>1019840002612</td>\n",
       "      <td>목적 동력 경운기에 작업자의 탑승 장치를 설치하므로써  경운기를 이용하여 작업상의...</td>\n",
       "      <td>A01B,A47C</td>\n",
       "    </tr>\n",
       "    <tr>\n",
       "      <th>14</th>\n",
       "      <td>1019840003269</td>\n",
       "      <td>목적 신규의 1 옥소 이소인돌린 유도체의 제법을 제공함을 목적으로 한다. 구성 일...</td>\n",
       "      <td>A01N</td>\n",
       "    </tr>\n",
       "    <tr>\n",
       "      <th>15</th>\n",
       "      <td>1019840004379</td>\n",
       "      <td>목적 항부정맥작용 및 혈소판 응집억제 작용을 갖는 피롤 유도체의 공업적 제조방법을...</td>\n",
       "      <td>A61K</td>\n",
       "    </tr>\n",
       "    <tr>\n",
       "      <th>16</th>\n",
       "      <td>1019840004380</td>\n",
       "      <td>목적 스위치 또는 감지기의 출력 신호에 의하여 음성을 자동 발성케하는 반도체 음성...</td>\n",
       "      <td>A61K</td>\n",
       "    </tr>\n",
       "    <tr>\n",
       "      <th>17</th>\n",
       "      <td>1019840004705</td>\n",
       "      <td>목적 본 발명은 살충제로 유용한 신규한 물질인 카바메이트 화합물 의 제조방법을 제...</td>\n",
       "      <td>A01N</td>\n",
       "    </tr>\n",
       "    <tr>\n",
       "      <th>18</th>\n",
       "      <td>1019840004706</td>\n",
       "      <td>목적 본 발명은 살충제로 유용한 신규한 물질인 카바메이트 화합물 을 제조하는 방법...</td>\n",
       "      <td>A01N</td>\n",
       "    </tr>\n",
       "    <tr>\n",
       "      <th>19</th>\n",
       "      <td>1019840004707</td>\n",
       "      <td>목적 본 발명은 살충제로 유용한 신규한 물질인 카바메이트 화합 물을 제조하는 방법...</td>\n",
       "      <td>A01N</td>\n",
       "    </tr>\n",
       "    <tr>\n",
       "      <th>20</th>\n",
       "      <td>1019840005044</td>\n",
       "      <td>목적 피임약으로 특히 유용하게 사용되는 일반식 16 의 두고리 유 도체 1RS 4...</td>\n",
       "      <td>A61K</td>\n",
       "    </tr>\n",
       "    <tr>\n",
       "      <th>21</th>\n",
       "      <td>1019840006443</td>\n",
       "      <td>목적 식물가해곤충  식물기생성 진드기류  동물기생성 진드기류등을 포함한 위생해충등...</td>\n",
       "      <td>A01N</td>\n",
       "    </tr>\n",
       "    <tr>\n",
       "      <th>22</th>\n",
       "      <td>1019840006911</td>\n",
       "      <td>목적 살충제 및 살비제로 유용한 치환된 페녹시 벤질옥시카보닐 유도체를 제조하기 위...</td>\n",
       "      <td>A01N</td>\n",
       "    </tr>\n",
       "    <tr>\n",
       "      <th>23</th>\n",
       "      <td>1019840007630</td>\n",
       "      <td>구성 용변 받이 고정대 2 에 용변 받이 3 를 설치하며  그 용변받이  3 에 ...</td>\n",
       "      <td>A61F</td>\n",
       "    </tr>\n",
       "    <tr>\n",
       "      <th>24</th>\n",
       "      <td>1019840007654</td>\n",
       "      <td>손과 후각 및 미각의 무료함을 동시에 만족시킬 수 있도록 차 종류의 기호 식품이나 ...</td>\n",
       "      <td>A47J</td>\n",
       "    </tr>\n",
       "    <tr>\n",
       "      <th>25</th>\n",
       "      <td>1019840007667</td>\n",
       "      <td>목적 사무실용 스크린 시스템에 관한 것으로  주로 내부가 개방된 사무실 설계에 사...</td>\n",
       "      <td>A47B</td>\n",
       "    </tr>\n",
       "    <tr>\n",
       "      <th>26</th>\n",
       "      <td>1019840007680</td>\n",
       "      <td>팽창비율을 향강시켜 식품을 부드럽게 함과 동시에 제품의 수율을 배가되게하고  또 식...</td>\n",
       "      <td>A21D</td>\n",
       "    </tr>\n",
       "    <tr>\n",
       "      <th>27</th>\n",
       "      <td>1019840007686</td>\n",
       "      <td>위생적이고  불순물이 없으며  부패하지 않고  몸에 유해한 성분이 포함되지 않은 새...</td>\n",
       "      <td>A23L</td>\n",
       "    </tr>\n",
       "    <tr>\n",
       "      <th>28</th>\n",
       "      <td>1019840007697</td>\n",
       "      <td>단층 촬영기의 수평 이동장치인 촬영용 침대에 사용되는 스텝 모우터의 전력 소모를 줄...</td>\n",
       "      <td>A61B</td>\n",
       "    </tr>\n",
       "    <tr>\n",
       "      <th>29</th>\n",
       "      <td>1019840007728</td>\n",
       "      <td>대두에 규소 수지를 흡착시켜 조리시간이 단축되고 살균효과도 있는즉석 순두부 원료를 ...</td>\n",
       "      <td>A23L,A23P</td>\n",
       "    </tr>\n",
       "  </tbody>\n",
       "</table>\n",
       "</div>"
      ],
      "text/plain": [
       "             출원번호                                                 초록  \\\n",
       "0   1019790001108                                   quot 내용 없음 quot    \n",
       "1   1019820000038   목적 구조식 I 의 N 할로알킬 티오벤즈아닐리드 살균제 및 그 제조방법을 제공하는...   \n",
       "2   1019820005041  커피 제품을 제조하는 방법에 관한 것으로  강화된 방향성분을 갖는 가용성 커피 제품...   \n",
       "3   1019830003001   목적 공격억제활성 및 항정신병활성을 지닌 9  3  3 5 시스 디페닐 피페라지노...   \n",
       "4   1019830003002   목적 본 발명은 가치있는 공격억제 활성 및 항정신병 활성을 지닌 9  3  3 5...   \n",
       "5   1019830003160   목적 모발의 손상이 없고  다시 파마하고자 할때 파마가 잘되지 않는 일이 없고  ...   \n",
       "6   1019830003182   목적 봉제 인형머리를 구성하는 실방울을 자동적으로 가공제조하는 자동실방울 가공장치...   \n",
       "7   1019830004469   구성 특허 82 2553 1982. 6.8 에서 분할 출원. 공개 번호 84 18...   \n",
       "8   1019830005049   구성 특허 80 1475 80.4.9 에서 분할 출원                ...   \n",
       "9   1019830005441   목적 표면장식물이 봉합선에 대하여 수직이 아닌 다른 각도로 연속되어 봉합선의 양측...   \n",
       "10  1019840000112   목적 광범위한 공업재료를 보존하기에 적합하고 안존한 보존제인 향균 작용을 갖는 o...   \n",
       "11  1019840001111   목적 일측단부에 장방형 형태의 탄성스폰지가 고정되는 브라킷트를 갖는 스폰지 자루걸...   \n",
       "12  1019840001899   구성 특허 80 3063 1980.7.31 에서 분할출원              ...   \n",
       "13  1019840002612   목적 동력 경운기에 작업자의 탑승 장치를 설치하므로써  경운기를 이용하여 작업상의...   \n",
       "14  1019840003269   목적 신규의 1 옥소 이소인돌린 유도체의 제법을 제공함을 목적으로 한다. 구성 일...   \n",
       "15  1019840004379   목적 항부정맥작용 및 혈소판 응집억제 작용을 갖는 피롤 유도체의 공업적 제조방법을...   \n",
       "16  1019840004380   목적 스위치 또는 감지기의 출력 신호에 의하여 음성을 자동 발성케하는 반도체 음성...   \n",
       "17  1019840004705   목적 본 발명은 살충제로 유용한 신규한 물질인 카바메이트 화합물 의 제조방법을 제...   \n",
       "18  1019840004706   목적 본 발명은 살충제로 유용한 신규한 물질인 카바메이트 화합물 을 제조하는 방법...   \n",
       "19  1019840004707   목적 본 발명은 살충제로 유용한 신규한 물질인 카바메이트 화합 물을 제조하는 방법...   \n",
       "20  1019840005044   목적 피임약으로 특히 유용하게 사용되는 일반식 16 의 두고리 유 도체 1RS 4...   \n",
       "21  1019840006443   목적 식물가해곤충  식물기생성 진드기류  동물기생성 진드기류등을 포함한 위생해충등...   \n",
       "22  1019840006911   목적 살충제 및 살비제로 유용한 치환된 페녹시 벤질옥시카보닐 유도체를 제조하기 위...   \n",
       "23  1019840007630   구성 용변 받이 고정대 2 에 용변 받이 3 를 설치하며  그 용변받이  3 에 ...   \n",
       "24  1019840007654  손과 후각 및 미각의 무료함을 동시에 만족시킬 수 있도록 차 종류의 기호 식품이나 ...   \n",
       "25  1019840007667   목적 사무실용 스크린 시스템에 관한 것으로  주로 내부가 개방된 사무실 설계에 사...   \n",
       "26  1019840007680  팽창비율을 향강시켜 식품을 부드럽게 함과 동시에 제품의 수율을 배가되게하고  또 식...   \n",
       "27  1019840007686  위생적이고  불순물이 없으며  부패하지 않고  몸에 유해한 성분이 포함되지 않은 새...   \n",
       "28  1019840007697  단층 촬영기의 수평 이동장치인 촬영용 침대에 사용되는 스텝 모우터의 전력 소모를 줄...   \n",
       "29  1019840007728  대두에 규소 수지를 흡착시켜 조리시간이 단축되고 살균효과도 있는즉석 순두부 원료를 ...   \n",
       "\n",
       "        ipc코드  \n",
       "0        A01N  \n",
       "1        A01N  \n",
       "2        A23F  \n",
       "3        A61K  \n",
       "4        A61K  \n",
       "5   A61K,A61Q  \n",
       "6        A63H  \n",
       "7        A23L  \n",
       "8        A01C  \n",
       "9        A42B  \n",
       "10       A01N  \n",
       "11       A47L  \n",
       "12  A61K,A61K  \n",
       "13  A01B,A47C  \n",
       "14       A01N  \n",
       "15       A61K  \n",
       "16       A61K  \n",
       "17       A01N  \n",
       "18       A01N  \n",
       "19       A01N  \n",
       "20       A61K  \n",
       "21       A01N  \n",
       "22       A01N  \n",
       "23       A61F  \n",
       "24       A47J  \n",
       "25       A47B  \n",
       "26       A21D  \n",
       "27       A23L  \n",
       "28       A61B  \n",
       "29  A23L,A23P  "
      ]
     },
     "execution_count": 9,
     "metadata": {},
     "output_type": "execute_result"
    }
   ],
   "source": [
    "a.head(30)"
   ]
  },
  {
   "cell_type": "code",
   "execution_count": 179,
   "metadata": {},
   "outputs": [],
   "source": [
    "'''\n",
    "아래 코드는 모든 전처리 끝나고 마지막에 실행\n",
    "'''\n",
    "\n",
    "a.to_csv('A_IPC_final.csv')\n",
    "b.to_csv('B_IPC_final.csv')\n",
    "c.to_csv('C_IPC_final.csv')\n",
    "d.to_csv('D_IPC_final.csv')\n",
    "e.to_csv('E_IPC_final.csv')\n",
    "f.to_csv('F_IPC_final.csv')\n",
    "g.to_csv('G_IPC_final.csv')"
   ]
  },
  {
   "cell_type": "code",
   "execution_count": 10,
   "metadata": {},
   "outputs": [],
   "source": [
    "df = pd.concat([a,b,c,d,e,f,g], axis=0)"
   ]
  },
  {
   "cell_type": "code",
   "execution_count": 11,
   "metadata": {},
   "outputs": [
    {
     "data": {
      "text/html": [
       "<div>\n",
       "<style scoped>\n",
       "    .dataframe tbody tr th:only-of-type {\n",
       "        vertical-align: middle;\n",
       "    }\n",
       "\n",
       "    .dataframe tbody tr th {\n",
       "        vertical-align: top;\n",
       "    }\n",
       "\n",
       "    .dataframe thead th {\n",
       "        text-align: right;\n",
       "    }\n",
       "</style>\n",
       "<table border=\"1\" class=\"dataframe\">\n",
       "  <thead>\n",
       "    <tr style=\"text-align: right;\">\n",
       "      <th></th>\n",
       "      <th>출원번호</th>\n",
       "      <th>초록</th>\n",
       "      <th>ipc코드</th>\n",
       "    </tr>\n",
       "  </thead>\n",
       "  <tbody>\n",
       "    <tr>\n",
       "      <th>0</th>\n",
       "      <td>1019790001108</td>\n",
       "      <td>quot 내용 없음 quot</td>\n",
       "      <td>A01N</td>\n",
       "    </tr>\n",
       "    <tr>\n",
       "      <th>1</th>\n",
       "      <td>1019820000038</td>\n",
       "      <td>목적 구조식 I 의 N 할로알킬 티오벤즈아닐리드 살균제 및 그 제조방법을 제공하는...</td>\n",
       "      <td>A01N</td>\n",
       "    </tr>\n",
       "    <tr>\n",
       "      <th>2</th>\n",
       "      <td>1019820005041</td>\n",
       "      <td>커피 제품을 제조하는 방법에 관한 것으로  강화된 방향성분을 갖는 가용성 커피 제품...</td>\n",
       "      <td>A23F</td>\n",
       "    </tr>\n",
       "    <tr>\n",
       "      <th>3</th>\n",
       "      <td>1019830003001</td>\n",
       "      <td>목적 공격억제활성 및 항정신병활성을 지닌 9  3  3 5 시스 디페닐 피페라지노...</td>\n",
       "      <td>A61K</td>\n",
       "    </tr>\n",
       "    <tr>\n",
       "      <th>4</th>\n",
       "      <td>1019830003002</td>\n",
       "      <td>목적 본 발명은 가치있는 공격억제 활성 및 항정신병 활성을 지닌 9  3  3 5...</td>\n",
       "      <td>A61K</td>\n",
       "    </tr>\n",
       "  </tbody>\n",
       "</table>\n",
       "</div>"
      ],
      "text/plain": [
       "            출원번호                                                 초록 ipc코드\n",
       "0  1019790001108                                   quot 내용 없음 quot   A01N\n",
       "1  1019820000038   목적 구조식 I 의 N 할로알킬 티오벤즈아닐리드 살균제 및 그 제조방법을 제공하는...  A01N\n",
       "2  1019820005041  커피 제품을 제조하는 방법에 관한 것으로  강화된 방향성분을 갖는 가용성 커피 제품...  A23F\n",
       "3  1019830003001   목적 공격억제활성 및 항정신병활성을 지닌 9  3  3 5 시스 디페닐 피페라지노...  A61K\n",
       "4  1019830003002   목적 본 발명은 가치있는 공격억제 활성 및 항정신병 활성을 지닌 9  3  3 5...  A61K"
      ]
     },
     "execution_count": 11,
     "metadata": {},
     "output_type": "execute_result"
    }
   ],
   "source": [
    "df.head()"
   ]
  },
  {
   "cell_type": "code",
   "execution_count": 184,
   "metadata": {},
   "outputs": [],
   "source": [
    "df.to_csv('Final_data.csv', index = False)"
   ]
  },
  {
   "cell_type": "code",
   "execution_count": 13,
   "metadata": {},
   "outputs": [],
   "source": [
    "'''\n",
    "아래 코드는 모든 전처리 끝나고 마지막에 실행\n",
    "'''\n",
    "\n",
    "A.to_csv('A_IPC_final')\n",
    "B.to_csv('B_IPC_final')\n",
    "C.to_csv('C_IPC_final')\n",
    "D.to_csv('D_IPC_final')\n",
    "E.to_csv('E_IPC_final')\n",
    "F.to_csv('F_IPC_final')\n",
    "G.to_csv('G_IPC_final')"
   ]
  }
 ],
 "metadata": {
  "kernelspec": {
   "display_name": "gyubin",
   "language": "python",
   "name": "python3"
  },
  "language_info": {
   "codemirror_mode": {
    "name": "ipython",
    "version": 3
   },
   "file_extension": ".py",
   "mimetype": "text/x-python",
   "name": "python",
   "nbconvert_exporter": "python",
   "pygments_lexer": "ipython3",
   "version": "3.10.9"
  }
 },
 "nbformat": 4,
 "nbformat_minor": 2
}
