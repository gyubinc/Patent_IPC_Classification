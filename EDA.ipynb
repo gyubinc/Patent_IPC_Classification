{
 "cells": [
  {
   "cell_type": "code",
   "execution_count": 2,
   "metadata": {},
   "outputs": [
    {
     "data": {
      "text/plain": [
       "'c:\\\\규빈\\\\Patent_IPC_Classification'"
      ]
     },
     "execution_count": 2,
     "metadata": {},
     "output_type": "execute_result"
    }
   ],
   "source": [
    "pwd"
   ]
  },
  {
   "cell_type": "code",
   "execution_count": 8,
   "metadata": {},
   "outputs": [],
   "source": [
    "'''\n",
    "현재 H IPC CODE 데이터가 없음\n",
    "\n",
    "'''\n",
    "\n",
    "import pandas as pd\n",
    "\n",
    "A = pd.read_csv('data/evenly_sampled_A _origin_ipc.csv')\n",
    "B = pd.read_csv('data/evenly_sampled_B _origin_ipc.csv')\n",
    "C = pd.read_csv('data/evenly_sampled_C _origin_ipc.csv')\n",
    "D = pd.read_csv('data/evenly_sampled_D _origin_ipc.csv')\n",
    "E = pd.read_csv('data/evenly_sampled_E _origin_ipc.csv')\n",
    "F = pd.read_csv('data/evenly_sampled_F _origin_ipc.csv')\n",
    "G = pd.read_csv('data/evenly_sampled_G _origin_ipc.csv')"
   ]
  },
  {
   "cell_type": "code",
   "execution_count": 12,
   "metadata": {},
   "outputs": [],
   "source": [
    "TOTAL = [A,B,C,D,E,F,G]\n",
    "index = ['A', 'B', 'C', 'D', 'E', 'F', 'G']"
   ]
  },
  {
   "cell_type": "code",
   "execution_count": 14,
   "metadata": {},
   "outputs": [
    {
     "name": "stdout",
     "output_type": "stream",
     "text": [
      "A code shape : (189422, 3)\n",
      "B code shape : (303790, 3)\n",
      "C code shape : (150108, 3)\n",
      "D code shape : (46462, 3)\n",
      "E code shape : (85776, 3)\n",
      "F code shape : (171213, 3)\n",
      "G code shape : (164404, 3)\n"
     ]
    }
   ],
   "source": [
    "for i, data in enumerate(TOTAL):\n",
    "    print(f'{index[i]} code shape : {data.shape}')"
   ]
  },
  {
   "cell_type": "code",
   "execution_count": 6,
   "metadata": {},
   "outputs": [
    {
     "data": {
      "text/html": [
       "<div>\n",
       "<style scoped>\n",
       "    .dataframe tbody tr th:only-of-type {\n",
       "        vertical-align: middle;\n",
       "    }\n",
       "\n",
       "    .dataframe tbody tr th {\n",
       "        vertical-align: top;\n",
       "    }\n",
       "\n",
       "    .dataframe thead th {\n",
       "        text-align: right;\n",
       "    }\n",
       "</style>\n",
       "<table border=\"1\" class=\"dataframe\">\n",
       "  <thead>\n",
       "    <tr style=\"text-align: right;\">\n",
       "      <th></th>\n",
       "      <th>출원번호</th>\n",
       "      <th>초록</th>\n",
       "      <th>ipc코드</th>\n",
       "    </tr>\n",
       "  </thead>\n",
       "  <tbody>\n",
       "    <tr>\n",
       "      <th>0</th>\n",
       "      <td>1019790001108</td>\n",
       "      <td>&amp;quot;내용 없음&amp;quot;</td>\n",
       "      <td>A01N</td>\n",
       "    </tr>\n",
       "    <tr>\n",
       "      <th>1</th>\n",
       "      <td>1019820000038</td>\n",
       "      <td>[목적]구조식(I)의 N-할로알킬 티오벤즈아닐리드 살균제 및 그 제조방법을 제공하는...</td>\n",
       "      <td>A01N</td>\n",
       "    </tr>\n",
       "    <tr>\n",
       "      <th>2</th>\n",
       "      <td>1019820005041</td>\n",
       "      <td>커피 제품을 제조하는 방법에 관한 것으로, 강화된 방향성분을 갖는 가용성 커피 제품...</td>\n",
       "      <td>A23F</td>\n",
       "    </tr>\n",
       "    <tr>\n",
       "      <th>3</th>\n",
       "      <td>1019820005041</td>\n",
       "      <td>커피 제품을 제조하는 방법에 관한 것으로, 강화된 방향성분을 갖는 가용성 커피 제품...</td>\n",
       "      <td>A23F</td>\n",
       "    </tr>\n",
       "    <tr>\n",
       "      <th>4</th>\n",
       "      <td>1019830003001</td>\n",
       "      <td>[목적]공격억제활성 및 항정신병활성을 지닌 9-[3-(3,5-시스-디페닐 피페라지노...</td>\n",
       "      <td>A61K</td>\n",
       "    </tr>\n",
       "  </tbody>\n",
       "</table>\n",
       "</div>"
      ],
      "text/plain": [
       "            출원번호                                                 초록 ipc코드\n",
       "0  1019790001108                                  &quot;내용 없음&quot;  A01N\n",
       "1  1019820000038  [목적]구조식(I)의 N-할로알킬 티오벤즈아닐리드 살균제 및 그 제조방법을 제공하는...  A01N\n",
       "2  1019820005041  커피 제품을 제조하는 방법에 관한 것으로, 강화된 방향성분을 갖는 가용성 커피 제품...  A23F\n",
       "3  1019820005041  커피 제품을 제조하는 방법에 관한 것으로, 강화된 방향성분을 갖는 가용성 커피 제품...  A23F\n",
       "4  1019830003001  [목적]공격억제활성 및 항정신병활성을 지닌 9-[3-(3,5-시스-디페닐 피페라지노...  A61K"
      ]
     },
     "execution_count": 6,
     "metadata": {},
     "output_type": "execute_result"
    }
   ],
   "source": [
    "A.head(5)"
   ]
  }
 ],
 "metadata": {
  "kernelspec": {
   "display_name": "gyubin",
   "language": "python",
   "name": "python3"
  },
  "language_info": {
   "codemirror_mode": {
    "name": "ipython",
    "version": 3
   },
   "file_extension": ".py",
   "mimetype": "text/x-python",
   "name": "python",
   "nbconvert_exporter": "python",
   "pygments_lexer": "ipython3",
   "version": "3.10.9"
  }
 },
 "nbformat": 4,
 "nbformat_minor": 2
}
